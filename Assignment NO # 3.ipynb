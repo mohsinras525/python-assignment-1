{
 "cells": [
  {
   "cell_type": "markdown",
   "id": "14391d36",
   "metadata": {},
   "source": [
    "# Task 1\n",
    "Variables and Strings\n"
   ]
  },
  {
   "cell_type": "code",
   "execution_count": 19,
   "id": "78fdeee1",
   "metadata": {},
   "outputs": [
    {
     "name": "stdout",
     "output_type": "stream",
     "text": [
      "Hello Python Developer\n"
     ]
    }
   ],
   "source": [
    "# 1. First, we create a variable called message and store a string in it.\n",
    "# 2. Then, we print the value of the message variable.\n",
    "\n",
    "message = \"Hello Python Developer\"\n",
    "print(message)"
   ]
  },
  {
   "cell_type": "code",
   "execution_count": 4,
   "id": "580708d3",
   "metadata": {},
   "outputs": [
    {
     "name": "stdout",
     "output_type": "stream",
     "text": [
      "George Bernhard Shaw Said . “A life spent making mistakes is not only more honorable, but more useful than a life spent doing nothing.”\n"
     ]
    }
   ],
   "source": [
    "# 1. The variable quote is assigned a string containing a quote from the English playwright, George Bernard Shaw.\n",
    "# 2. The variable authour is assigned a string containing the name of the English playwright, George Bernard Shaw.\n",
    "# 3. The print() function prints out the string stored in the variable quote, followed by the string stored in the variable authour.\n",
    "\n",
    "quote = \"“A life spent making mistakes is not only more honorable, but more useful than a life spent doing nothing.”\"\n",
    "authour =  \"George Bernhard Shaw Said .\"\n",
    "print(authour + \" \" + quote)"
   ]
  },
  {
   "cell_type": "markdown",
   "id": "81208c0c",
   "metadata": {},
   "source": [
    "# Task 2\n",
    "Calculate Area Of Circle By Taking Radius As a Input\n"
   ]
  },
  {
   "cell_type": "code",
   "execution_count": 9,
   "id": "3950e8cd",
   "metadata": {},
   "outputs": [
    {
     "name": "stdout",
     "output_type": "stream",
     "text": [
      "enter raduis of a circle whose area you want to calculate : 0.5\n",
      "input radius is :  0.5\n",
      "Area of circle with radius 0.5 is 0.7855\n"
     ]
    }
   ],
   "source": [
    "# 1. First, we ask the user to enter the radius of a circle.\n",
    "# 2. Then, we store the input value in a variable called radius.\n",
    "# 3. Next, we calculate the area of the circle and store it in a variable called area.\n",
    "# 4. Finally, we print the input radius and the calculated area of the circle.\n",
    "\n",
    "radius = float(input(\"enter raduis of a circle whose area you want to calculate : \"))\n",
    "pi = 3.142\n",
    "area = pi * radius**2\n",
    "print(\"input radius is : \", radius)\n",
    "print(\"Area of circle with radius\",radius,\"is\",area)"
   ]
  },
  {
   "cell_type": "markdown",
   "id": "92695213",
   "metadata": {},
   "source": [
    "#  Task 3\n",
    "Take input number from user and print weather a number is entered is positive ,negative or zero."
   ]
  },
  {
   "cell_type": "code",
   "execution_count": 12,
   "id": "312d7bc2",
   "metadata": {},
   "outputs": [
    {
     "name": "stdout",
     "output_type": "stream",
     "text": [
      "Enter any interger number of your choise15\n",
      "Entered number is positive\n"
     ]
    }
   ],
   "source": [
    "# 1. The input() function asks the user to enter a number.\n",
    "# 2. The int() function converts the user’s input into an integer.\n",
    "# 3. The if statement checks if the user’s input is equal to 0.\n",
    "# 4. If the user’s input is equal to 0, the if statement’s body is executed.\n",
    "# 5. If the user’s input is not equal to 0, the if statement’s body is skipped.\n",
    "# 6. The elif statement checks if the user’s input is less than 0.\n",
    "# 7. If the user’s input is less than 0, the elif statement’s body is executed.\n",
    "# 8. If the user’s input is not less than 0, the elif statement’s body is skipped.\n",
    "# 9. The else statement’s body is executed if none of the above statements’ bodies are executed.\n",
    "\n",
    "entered_number = int(input(\"Enter any interger number of your choise\"))\n",
    "if entered_number == 0:\n",
    "    print(\"Entered number is Zero\")\n",
    "elif entered_number < 0:\n",
    "    print(\"Entered number is negative\")\n",
    "else:\n",
    "    print(\"Entered number is positive\")"
   ]
  },
  {
   "cell_type": "markdown",
   "id": "81821d07",
   "metadata": {},
   "source": [
    "#  Task 4\n",
    "Take input any letter from user and print that enter letter is vowel or a consonant"
   ]
  },
  {
   "cell_type": "code",
   "execution_count": null,
   "id": "b8bc3ebc",
   "metadata": {},
   "outputs": [],
   "source": [
    "# 1. The user is prompted to enter a letter.\n",
    "# 2. The entered letter is stored in a variable.\n",
    "# 3. The if-elif-else statement checks the entered letter and prints the appropriate message.\n",
    "# 4. The if-elif-else statement is executed only if the entered letter is either a, e, i, o, u or A, E, I, O, U.\n",
    "# 5. If the entered letter is not any of the above, the else statement is executed.\n",
    "\n",
    "entered_letter = input(\"Enter any letter : \")\n",
    "\n",
    "if entered_letter == \"A\" or entered_letter ==\"a\":\n",
    "    print(\"Entered letter is a vowel\")\n",
    "elif entered_letter == \"E\" or entered_letter == \"e\":\n",
    "    print(\"Entered letter is a vowel\")\n",
    "elif entered_letter == \"I\" or entered_letter == \"i\":\n",
    "    print(\"Entered letter is a vowel\")\n",
    "elif entered_letter == \"O\" or entered_letter == \"o\":\n",
    "    print(\"Entered letter is a vowel\")\n",
    "elif entered_letter == \"U\" or entered_letter == \"u\":\n",
    "    print(\"Entered letter is a vowel\")\n",
    "else:\n",
    "    print(\"Entered letter is a consonant\")"
   ]
  },
  {
   "cell_type": "markdown",
   "id": "599acfcc",
   "metadata": {},
   "source": [
    "#  Task 5\n",
    "BMI calculator"
   ]
  },
  {
   "cell_type": "code",
   "execution_count": 20,
   "id": "4915b4a5",
   "metadata": {},
   "outputs": [
    {
     "name": "stdout",
     "output_type": "stream",
     "text": [
      "Enter your weight in kilograms : 59\n",
      "Enter your height in centimeters : 170\n",
      "Entered Weight is 59 kg\n",
      "Entered Height is 170 cm\n",
      "Your BMI is : 20.41522491349481\n"
     ]
    }
   ],
   "source": [
    "#1. The first line asks the user to enter their weight in kilograms.\n",
    "# 2. The second line asks the user to enter their height in centimeters.\n",
    "# 3. The third line converts the height into meters.\n",
    "# 4. The fourth line calculates the BMI.\n",
    "# 5. The fifth line prints the entered weight.\n",
    "# 6. The sixth line prints the entered height.\n",
    "# 7. The seventh line prints the calculated BMI.\n",
    "\n",
    "your_weight = int(input(\"Enter your weight in kilograms : \"))\n",
    "your_height = int(input(\"Enter your height in centimeters : \"))\n",
    "\n",
    "converted_height_into_meters = your_height / 100\n",
    "BMI = your_weight / converted_height_into_meters ** 2\n",
    "\n",
    "print(\"Entered Weight is\",your_weight,\"kg\" )\n",
    "print(\"Entered Height is\" , your_height ,\"cm\")\n",
    "print(\"Your BMI is :\" , BMI)"
   ]
  },
  {
   "cell_type": "markdown",
   "id": "aa4bfbce",
   "metadata": {},
   "source": [
    "#  Task 6  (i)\n",
    "practice sets for list Datatype"
   ]
  },
  {
   "cell_type": "code",
   "execution_count": 24,
   "id": "32823da3",
   "metadata": {},
   "outputs": [
    {
     "name": "stdout",
     "output_type": "stream",
     "text": [
      "Aamir\n",
      "Noor\n",
      "Wajahat\n",
      "Ali\n",
      "murtaza\n",
      "Moiz\n"
     ]
    }
   ],
   "source": [
    "names = [\"Aamir\",\"Noor\",\"Wajahat\",\"Ali\",\"murtaza\",\"Moiz\"]\n",
    "print(names[0])\n",
    "print(names[1])\n",
    "print(names[2])\n",
    "print(names[3])\n",
    "print(names[4])\n",
    "print(names[5])"
   ]
  },
  {
   "cell_type": "markdown",
   "id": "8e0a02da",
   "metadata": {},
   "source": [
    "# Task 6 (ii)"
   ]
  },
  {
   "cell_type": "code",
   "execution_count": 32,
   "id": "cbf05f98",
   "metadata": {},
   "outputs": [
    {
     "name": "stdout",
     "output_type": "stream",
     "text": [
      "Aamir  is one of my school friend\n",
      "Noor  is one of my school friend\n",
      "Wajahat  is one of my school friend\n",
      "Ali  is one of my school friend\n",
      "murtaza  is one of my school friend\n",
      "Moiz  is one of my school friend\n"
     ]
    }
   ],
   "source": [
    "# 1. First, we define a variable text and assign it a string value.\n",
    "# 2. Next, we define a variable names and assign it a list value.\n",
    "# 3. Then, we loop through the names list and print out the name and the text.\n",
    "# 4. Finally, we print out the following output:\n",
    "\n",
    "text = \"is one of my school friend\"\n",
    "for name in names:\n",
    "    print(name,\"\",text)"
   ]
  },
  {
   "cell_type": "markdown",
   "id": "69d6b130",
   "metadata": {},
   "source": [
    "#  Task 7 \n",
    "practice set of list"
   ]
  },
  {
   "cell_type": "code",
   "execution_count": 35,
   "id": "2bf54334",
   "metadata": {},
   "outputs": [
    {
     "name": "stdout",
     "output_type": "stream",
     "text": [
      "The first 3 favorite dishes are :  ['Biryani', 'Karahi', 'Qorma']\n",
      "The other 3 favorite dishes are :  ['Nihari', 'Daal Chawwal', 'Pasta']\n",
      "The last 3 favorite dishes are :  ['Lazania', 'Pizza', 'Chicken Broast']\n"
     ]
    }
   ],
   "source": [
    "# 1. First, we create a list of favorite dishes.\n",
    "# 2. Then, we print the first 3 items in the list.\n",
    "# 3. Next, we print the items from the 3rd to the 6th position.\n",
    "# 4. Finally, we print the last 3 items in the list.\n",
    "\n",
    "favorite_dishes = [\"Biryani\",\"Karahi\",\"Qorma\",\"Nihari\",\"Daal Chawwal\",\"Pasta\",\"Lazania\",\"Pizza\",\"Chicken Broast\"]\n",
    "print(\"The first 3 favorite dishes are : \", favorite_dishes[0:3])\n",
    "print(\"The other 3 favorite dishes are : \", favorite_dishes[3:6])\n",
    "print(\"The last 3 favorite dishes are : \", favorite_dishes[6:])"
   ]
  },
  {
   "cell_type": "markdown",
   "id": "f55fb757",
   "metadata": {},
   "source": [
    "# Task 8\n",
    "practice set list"
   ]
  },
  {
   "cell_type": "code",
   "execution_count": 47,
   "id": "aa221d5f",
   "metadata": {},
   "outputs": [
    {
     "name": "stdout",
     "output_type": "stream",
     "text": [
      "\"My favorite dish are \"\n",
      "Biryani\n",
      "Karahi\n",
      "Qorma\n",
      "Nihari\n",
      "Daal Chawwal\n",
      "Pasta\n",
      "Lazania\n",
      "Pizza\n",
      "Chicken Broast\n",
      "\"My friends favorite dishes are:\"\n",
      "Biryani\n",
      "Karahi\n",
      "Qorma\n",
      "Nihari\n",
      "Daal Chawwal\n",
      "Pasta\n",
      "Lazania\n",
      "Pizza\n",
      "Chicken Broast\n",
      "chicken Tikka\n",
      "Bihari kabab\n"
     ]
    }
   ],
   "source": [
    "# 1. We create a list of favorite dishes.\n",
    "# 2. We create a copy of the favorite dishes list.\n",
    "# 3. We add two new dishes to the copy of the favorite dishes list.\n",
    "# 4. We print out the original list of favorite dishes.\n",
    "# 5. We print out the copy of the favorite dishes list.\n",
    "\n",
    "friends_favorite_dishes = favorite_dishes.copy()\n",
    "friends_favorite_dishes.append(\"chicken Tikka\")\n",
    "friends_favorite_dishes.append(\"Bihari kabab\")\n",
    "\n",
    "print(\"\\\"My favorite dish are \\\"\")\n",
    "for favorite_dish in favorite_dishes:\n",
    "    print(favorite_dish)\n",
    "    \n",
    "print(\"\\\"My friends favorite dishes are:\\\"\")\n",
    "for friends_favorite_dish in friends_favorite_dishes:\n",
    "    print(friends_favorite_dish)\n",
    "    "
   ]
  }
 ],
 "metadata": {
  "kernelspec": {
   "display_name": "Python 3 (ipykernel)",
   "language": "python",
   "name": "python3"
  },
  "language_info": {
   "codemirror_mode": {
    "name": "ipython",
    "version": 3
   },
   "file_extension": ".py",
   "mimetype": "text/x-python",
   "name": "python",
   "nbconvert_exporter": "python",
   "pygments_lexer": "ipython3",
   "version": "3.9.12"
  }
 },
 "nbformat": 4,
 "nbformat_minor": 5
}
